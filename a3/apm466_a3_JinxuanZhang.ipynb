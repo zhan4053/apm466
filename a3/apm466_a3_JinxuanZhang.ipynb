{
  "nbformat": 4,
  "nbformat_minor": 0,
  "metadata": {
    "colab": {
      "name": "apm466_a3_JinxuanZhang.ipynb",
      "provenance": [],
      "collapsed_sections": []
    },
    "kernelspec": {
      "name": "python3",
      "display_name": "Python 3"
    },
    "language_info": {
      "name": "python"
    }
  },
  "cells": [
    {
      "cell_type": "markdown",
      "metadata": {
        "id": "OftY0mCyeZAk"
      },
      "source": [
        "# APM466 Assignment 3: Credit Risk"
      ]
    },
    {
      "cell_type": "code",
      "metadata": {
        "id": "B2pE9971eYwV"
      },
      "source": [
        "import math\n",
        "import numpy as np\n",
        "from scipy import linalg"
      ],
      "execution_count": null,
      "outputs": []
    },
    {
      "cell_type": "markdown",
      "metadata": {
        "id": "OtznRHqp95SM"
      },
      "source": [
        "## Question 1"
      ]
    },
    {
      "cell_type": "markdown",
      "metadata": {
        "id": "lbzywd1H97e5"
      },
      "source": [
        "### Part (a)"
      ]
    },
    {
      "cell_type": "code",
      "metadata": {
        "colab": {
          "base_uri": "https://localhost:8080/"
        },
        "id": "LxW3uZTietxd",
        "outputId": "44ce6f7c-1aa2-480b-908b-e4c70e2904d8"
      },
      "source": [
        "P = np.matrix([[7/10, 2/10, 1/10, 0],\n",
        "              [1/10, 5/10, 2/10, 2/10],\n",
        "              [1/10, 3/10, 3/10, 3/10],\n",
        "              [0, 0, 0, 1]])\n",
        "\n",
        "np.linalg.matrix_power(P, 3)"
      ],
      "execution_count": null,
      "outputs": [
        {
          "output_type": "execute_result",
          "data": {
            "text/plain": [
              "matrix([[0.405, 0.281, 0.148, 0.166],\n",
              "        [0.148, 0.244, 0.131, 0.477],\n",
              "        [0.133, 0.204, 0.113, 0.55 ],\n",
              "        [0.   , 0.   , 0.   , 1.   ]])"
            ]
          },
          "metadata": {
            "tags": []
          },
          "execution_count": 133
        }
      ]
    },
    {
      "cell_type": "markdown",
      "metadata": {
        "id": "YRqvXRod9_Ri"
      },
      "source": [
        "### Part (b)"
      ]
    },
    {
      "cell_type": "code",
      "metadata": {
        "id": "Ae-WNMtgkiEm"
      },
      "source": [
        "##### implementation of function for finding the matrix fractional powers #####\n",
        "# this returns similar results as scipy.linalg.fractional_matrix_power\n",
        "\n",
        "def frac_comb(n, r):\n",
        "    '''\n",
        "    Calculates combinations function (nCr) with fractional numbers,\n",
        "    noting that scipy.special.comb only works for integers\n",
        "    '''\n",
        "    k = 0\n",
        "    prod = 1\n",
        "    while k < r:\n",
        "        prod *= (n-k)\n",
        "        k +=1\n",
        "\n",
        "    return prod/math.factorial(r)\n",
        "\n",
        "\n",
        "def frac_pow(M, p, ep):\n",
        "    '''\n",
        "    Finds fractional power of a matrix with iterative approach until convergence\n",
        "        M - input matrix\n",
        "        p - fractional power\n",
        "        ep - convergence threshold\n",
        "    '''\n",
        "    k = 0\n",
        "    sum = np.zeros((4,4))\n",
        "    prev = np.matrix.copy(sum)\n",
        "    diff = 999\n",
        "    \n",
        "    while diff > ep:\n",
        "        sum += frac_comb(p, k) * np.linalg.matrix_power(M-np.identity(4), k)\n",
        "        diff = np.linalg.norm(sum-prev)\n",
        "        prev = np.matrix.copy(sum)\n",
        "        k += 1\n",
        "\n",
        "    return sum"
      ],
      "execution_count": null,
      "outputs": []
    },
    {
      "cell_type": "code",
      "metadata": {
        "colab": {
          "base_uri": "https://localhost:8080/"
        },
        "id": "bh-TS3m-oD04",
        "outputId": "5985a399-698f-4548-9b9f-0bde5417959d"
      },
      "source": [
        "linalg.fractional_matrix_power(P, 1/6)"
      ],
      "execution_count": null,
      "outputs": [
        {
          "output_type": "execute_result",
          "data": {
            "text/plain": [
              "array([[ 0.93805429,  0.04759609,  0.0221279 , -0.00777827],\n",
              "       [ 0.0221279 ,  0.86373589,  0.08099898,  0.03313723],\n",
              "       [ 0.02546819,  0.11982833,  0.7827369 ,  0.07196658],\n",
              "       [ 0.        ,  0.        ,  0.        ,  1.        ]])"
            ]
          },
          "metadata": {
            "tags": []
          },
          "execution_count": 127
        }
      ]
    },
    {
      "cell_type": "markdown",
      "metadata": {
        "id": "ticjMttC-A9E"
      },
      "source": [
        "### Part (c)"
      ]
    },
    {
      "cell_type": "code",
      "metadata": {
        "colab": {
          "base_uri": "https://localhost:8080/"
        },
        "id": "cvPxiYIe9TkL",
        "outputId": "c91756ce-d566-4298-d8e4-601db0bcfeff"
      },
      "source": [
        "np.linalg.matrix_power(P, 10000)"
      ],
      "execution_count": null,
      "outputs": [
        {
          "output_type": "execute_result",
          "data": {
            "text/plain": [
              "matrix([[0., 0., 0., 1.],\n",
              "        [0., 0., 0., 1.],\n",
              "        [0., 0., 0., 1.],\n",
              "        [0., 0., 0., 1.]])"
            ]
          },
          "metadata": {
            "tags": []
          },
          "execution_count": 146
        }
      ]
    }
  ]
}